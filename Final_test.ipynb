{
 "cells": [
  {
   "cell_type": "code",
   "execution_count": null,
   "metadata": {
    "collapsed": true
   },
   "outputs": [],
   "source": [
    "\n",
    "import numpy as np\n",
    "import matplotlib.pyplot as plt\n",
    "import matplotlib\n",
    "from mpl_toolkits.mplot3d import Axes3D\n",
    "from matplotlib.colors import LightSource\n",
    "\n",
    "%matplotlib inline\n",
    "%config InlineBackend.figure_format = 'svg'\n"
   ]
  },
  {
   "cell_type": "code",
   "execution_count": null,
   "outputs": [],
   "source": [
    "import torch\n",
    "import torch.nn.functional as F\n",
    "import torch.nn as nn\n",
    "import torch.optim as optim\n",
    "import torchvision\n",
    "# import torchvision.transforms as transforms\n",
    "from torchvision import datasets, transforms\n",
    "from torch.utils.data import DataLoader,Dataset\n",
    "import pandas as pd\n",
    "\n",
    "from torch.optim.optimizer import Optimizer\n",
    "import numpy as np\n",
    "import random\n",
    "dataset_=\"CIFAR10\"\n",
    "# import autograd_hacks\n",
    "# from collections import defaultdict\n",
    "# import sys\n",
    "# from autograd_lib import autograd_lib\n",
    "# from autograd_lib import util as\n",
    "test_loader=[]\n",
    "train_loader=[]\n",
    "if dataset_==\"CIFAR10\":\n",
    "    transform = transforms.Compose(\n",
    "        [transforms.ToTensor(),\n",
    "         transforms.Normalize((0.5, 0.5, 0.5), (0.5, 0.5, 0.5))])\n",
    "\n",
    "    trainset = torchvision.datasets.CIFAR10(root='./data', train=True,\n",
    "                                            download=True, transform=transform)\n",
    "    train_loader = torch.utils.data.DataLoader(trainset, batch_size=128,\n",
    "                                              shuffle=True)\n",
    "\n",
    "    testset = torchvision.datasets.CIFAR10(root='./data', train=False,\n",
    "                                           download=True, transform=transform)\n",
    "    test_loader = torch.utils.data.DataLoader(testset, batch_size=128,\n",
    "                                             shuffle=False)\n",
    "\n",
    "    device = torch.device(\"cuda:0\" if torch.cuda.is_available() else \"cpu\")\n",
    "    # inputs, labels = data[0].to(device), data[1].to(device)\n",
    "else:\n",
    "    transform=torchvision.transforms.Compose([\n",
    "                               torchvision.transforms.ToTensor(),\n",
    "                               torchvision.transforms.Normalize(\n",
    "                                 (0.1307,), (0.3081,))\n",
    "                             ]))\n",
    "    mnist_train = datasets.MNIST(\"../data\", train=True, download=True, transform=transforms.ToTensor())\n",
    "    mnist_test = datasets.MNIST(\"../data\", train=False, download=True, transform=transforms.ToTensor())\n",
    "    train_loader = DataLoader(mnist_train, batch_size = batch_size_, shuffle=True)\n",
    "    test_loader = DataLoader(mnist_test, batch_size = batch_size_, shuffle=False)\n",
    "\n",
    "\n"
   ],
   "metadata": {
    "collapsed": false,
    "pycharm": {
     "name": "#%%\n"
    }
   }
  },
  {
   "cell_type": "code",
   "execution_count": null,
   "outputs": [],
   "source": [],
   "metadata": {
    "collapsed": false,
    "pycharm": {
     "name": "#%%\n"
    }
   }
  },
  {
   "cell_type": "code",
   "execution_count": null,
   "outputs": [],
   "source": [
    "torch.manual_seed(0)\n",
    "\n",
    "class Flatten(nn.Module):\n",
    "    def forward(self, x):\n",
    "        return x.view(x.shape[0], -1)\n",
    "model_cnn=[]\n",
    "\n",
    "if dataset_ == \"CIFAR10\" :\n",
    "    class Net(nn.Module):\n",
    "        def __init__(self):\n",
    "            super(Net, self).__init__()\n",
    "            self.conv1 = nn.Conv2d(3, 6, 5)\n",
    "            self.pool = nn.MaxPool2d(2, 2)\n",
    "            self.conv2 = nn.Conv2d(6, 16, 5)\n",
    "            self.fc1 = nn.Linear(16 * 5 * 5, 120)\n",
    "            self.fc2 = nn.Linear(120, 84)\n",
    "            self.fc3 = nn.Linear(84, 10)\n",
    "\n",
    "        def forward(self, x):\n",
    "            x = self.pool(F.relu(self.conv1(x)))\n",
    "            x = self.pool(F.relu(self.conv2(x)))\n",
    "            x = x.view(-1, 16 * 5 * 5)\n",
    "            x = F.relu(self.fc1(x))\n",
    "            x = F.relu(self.fc2(x))\n",
    "            x = self.fc3(x)\n",
    "            return x\n",
    "    model_cnn = Net()\n",
    "    model_cnn.to(device)\n",
    "else:\n",
    "    model_cnn = nn.Sequential(nn.Conv2d(3, 32, 3, padding=1), nn.ReLU(),\n",
    "                              nn.Conv2d(32, 32, 3, padding=1, stride=2), nn.ReLU(),\n",
    "                              nn.Conv2d(32, 64, 3, padding=1), nn.ReLU(),\n",
    "                              nn.Conv2d(64, 64, 3, padding=1, stride=2), nn.ReLU(),\n",
    "                              Flatten(),\n",
    "                              nn.Linear(7*7*64, 100), nn.ReLU(),\n",
    "                              nn.Linear(100, 10)).to(device)\n",
    "\n",
    "    def epoch(loader, model, opt=None):\n",
    "    \"\"\"Standard training/evaluation epoch over the dataset\"\"\"\n",
    "    total_loss, total_err = 0.,0.\n",
    "    for X,y in loader:\n",
    "        X,y = X.to(device), y.to(device)\n",
    "        yp = model(X)\n",
    "        loss = nn.CrossEntropyLoss()(yp,y)\n",
    "        if opt:\n",
    "            opt.zero_grad()\n",
    "            loss.backward()\n",
    "            opt.step()\n",
    "\n",
    "        total_err += (yp.max(dim=1)[1] != y).sum().item()\n",
    "        total_loss += loss.item() * X.shape[0]\n",
    "    return total_err / len(loader.dataset), total_loss / len(loader.dataset)\n",
    "\n",
    "def weight_reset(m):\n",
    "    if isinstance(m, nn.Conv2d) or isinstance(m, nn.Linear):\n",
    "        m.reset_parameters()"
   ],
   "metadata": {
    "collapsed": false,
    "pycharm": {
     "name": "#%%\n"
    }
   }
  },
  {
   "cell_type": "code",
   "execution_count": null,
   "outputs": [],
   "source": [
    "optims= [optim.SGD(model_cnn.parameters(), lr=0.01),optim.SGD(model_cnn.parameters(), lr=0.01,momentum=0.9),optim.Adam(model_cnn.parameters(), lr=0.001, betas=(0.9, 0.999))]\n",
    "opts_=[\"SGD\",\"SGD with momentum =0.9\",\"ADAM lr=0.001, betas=(0.9, 0.999)\"]\n",
    "for opt,opt_ in zip(optims,opts_):\n",
    "    for i in range(6):\n",
    "        train_err=[]\n",
    "        test_err=[]\n",
    "\n",
    "        for t in range(10):\n",
    "            train_err, train_loss = epoch(train_loader, model_cnn, opt)\n",
    "            test_err, test_loss = epoch(test_loader, model_cnn)\n",
    "            if opt_ ==\"SGD\":\n",
    "                if t == 4:\n",
    "                    for param_group in opt.param_groups:\n",
    "                        param_group[\"lr\"] = 1e-2\n",
    "            print(*(\"{:.6f}\".format(i) for i in (train_err, test_err, )), sep=\"\\t\")\n",
    "\n",
    "        column_names = [\"OPT\", \"Train\", \"Test\"]\n",
    "        dic = {dataset_:[opt_,train_err,test_err]}\n",
    "\n",
    "        df = pd.DataFrame.from_dict(dic,orient='index',columns=column_names)\n",
    "\n",
    "        df.to_csv('Experiment_results.csv', mode='a', header=False)\n",
    "\n",
    "        model_cnn.apply(weight_reset)"
   ],
   "metadata": {
    "collapsed": false,
    "pycharm": {
     "name": "#%%\n"
    }
   }
  }
 ],
 "metadata": {
  "kernelspec": {
   "display_name": "Python 3",
   "language": "python",
   "name": "python3"
  },
  "language_info": {
   "codemirror_mode": {
    "name": "ipython",
    "version": 2
   },
   "file_extension": ".py",
   "mimetype": "text/x-python",
   "name": "python",
   "nbconvert_exporter": "python",
   "pygments_lexer": "ipython2",
   "version": "2.7.6"
  }
 },
 "nbformat": 4,
 "nbformat_minor": 0
}